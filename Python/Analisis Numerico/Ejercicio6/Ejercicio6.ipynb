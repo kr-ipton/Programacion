{
 "cells": [
  {
   "cell_type": "code",
   "execution_count": 3,
   "metadata": {},
   "outputs": [],
   "source": [
    "import numpy as np"
   ]
  },
  {
   "cell_type": "code",
   "execution_count": 23,
   "metadata": {},
   "outputs": [],
   "source": [
    "def pares(x):\n",
    "    if x % 2 == 0:\n",
    "        return True\n",
    "    else:\n",
    "        return False\n",
    "def funcion(x):\n",
    "    for i in range(len(x)):\n",
    "        x[i]=(1)/(x[i])"
   ]
  },
  {
   "cell_type": "code",
   "execution_count": 12,
   "metadata": {},
   "outputs": [],
   "source": [
    "dato=input(\"Ingrese un valor entero no 0\")\n",
    "signo=[-1,1]\n",
    "try:\n",
    "    dato=int(dato)\n",
    "    valido=True\n",
    "except ValueError:\n",
    "    valido=False\n",
    "\n",
    "if valido==True:\n",
    "    if dato==0:\n",
    "        print(\"No puedes dividir entre 0\")\n",
    "    elif dato < 0:\n",
    "        n=list(np.arange(1,dato+1,signo[0]))\n",
    "    else:\n",
    "        n=list(np.arange(1,dato+1,signo[1]))\n",
    "else:\n",
    "    print(\"Error: dato incorrecto\")\n"
   ]
  },
  {
   "cell_type": "code",
   "execution_count": 48,
   "metadata": {},
   "outputs": [
    {
     "name": "stdout",
     "output_type": "stream",
     "text": [
      "[1.0, -2.0, 3.0, -4.0, 5.0, -6.0, 7.0, -8.0, 9.0, -10.0, 11.0, -12.0, 13.0, -14.0, 15.0, -16.0, 17.0, -18.0, 19.0, -20.0, 21.0, -22.0, 23.0, -24.0, 25.0, -26.0, 27.0, -28.0, 29.0, -30.0, 31.0, -32.0, 33.0, -34.0, 35.0, -36.0, 37.0, -38.0, 39.0, -40.0, 41.0, -42.0, 43.0, -44.0, 45.0]\n",
      "[1.0, -0.5, 0.3333333333333333, -0.25, 0.2, -0.16666666666666666, 0.14285714285714285, -0.125, 0.1111111111111111, -0.1, 0.09090909090909091, -0.08333333333333333, 0.07692307692307693, -0.07142857142857142, 0.06666666666666667, -0.0625, 0.058823529411764705, -0.05555555555555555, 0.05263157894736842, -0.05, 0.047619047619047616, -0.045454545454545456, 0.043478260869565216, -0.041666666666666664, 0.04, -0.038461538461538464, 0.037037037037037035, -0.03571428571428571, 0.034482758620689655, -0.03333333333333333, 0.03225806451612903, -0.03125, 0.030303030303030304, -0.029411764705882353, 0.02857142857142857, -0.027777777777777776, 0.02702702702702703, -0.02631578947368421, 0.02564102564102564, -0.025, 0.024390243902439025, -0.023809523809523808, 0.023255813953488372, -0.022727272727272728, 0.022222222222222223]\n",
      "0.7041348653340472\n"
     ]
    }
   ],
   "source": [
    "for i in range(len(n)):\n",
    "    if pares(n[i]) == True:\n",
    "        n[i] = (-1)*(n[i])\n",
    "    else:\n",
    "        pass\n",
    "n_c=n[:]\n",
    "print(n)\n",
    "fun=funcion(n_c)\n",
    "print(n_c)\n",
    "suma=sum(n_c)\n",
    "print(suma)\n"
   ]
  }
 ],
 "metadata": {
  "kernelspec": {
   "display_name": "Python 3.10.5 64-bit",
   "language": "python",
   "name": "python3"
  },
  "language_info": {
   "codemirror_mode": {
    "name": "ipython",
    "version": 3
   },
   "file_extension": ".py",
   "mimetype": "text/x-python",
   "name": "python",
   "nbconvert_exporter": "python",
   "pygments_lexer": "ipython3",
   "version": "3.10.5"
  },
  "orig_nbformat": 4,
  "vscode": {
   "interpreter": {
    "hash": "2ce5abb18d857f9e49c088cba8187933cc9324131c494c3be04c4f561bc9060e"
   }
  }
 },
 "nbformat": 4,
 "nbformat_minor": 2
}
