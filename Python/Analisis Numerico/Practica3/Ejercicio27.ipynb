{
 "cells": [
  {
   "cell_type": "code",
   "execution_count": 6,
   "metadata": {},
   "outputs": [],
   "source": [
    "import numpy as np\n",
    "from numpy import linalg as LA"
   ]
  },
  {
   "cell_type": "code",
   "execution_count": 67,
   "metadata": {},
   "outputs": [],
   "source": [
    "def Householder(A):\n",
    "    Ai = np.copy(A)\n",
    "    nRen, nCol = A.shape\n",
    "    q = list()\n",
    "    for i in range(nCol):\n",
    "        x = np.array(Ai[:, i])\n",
    "        e = 0\n",
    "        for j in range(i):\n",
    "            x[j] = 0\n",
    "            e += 1\n",
    "        u = x+(np.sign(Ai[i, i])*LA.norm(x)*np.eye(len(Ai))[:, e])\n",
    "        v = u/LA.norm(u)\n",
    "        vt = v.reshape((len(v), 1))\n",
    "        H = np.eye(len(Ai))-2*np.matmul(vt, vt.T)\n",
    "        Ai = np.matmul(H, Ai)\n",
    "        q.append(H)\n",
    "    R = Ai\n",
    "    Q = q[0]\n",
    "    for k in range(1, len(q)):\n",
    "        Q = np.matmul(Q, q[k])\n",
    "    return Q, R"
   ]
  },
  {
   "cell_type": "code",
   "execution_count": 68,
   "metadata": {},
   "outputs": [],
   "source": [
    "def EC_normales(A, b):\n",
    "    At=np.transpose(A)\n",
    "    AtA=np.matmul(At, A)\n",
    "    Atb=np.matmul(At, b)\n",
    "    return AtA, Atb"
   ]
  },
  {
   "cell_type": "code",
   "execution_count": 69,
   "metadata": {},
   "outputs": [],
   "source": [
    "def sustitucion(A, b):\n",
    "    n = A.shape[1]\n",
    "    x = [0]*n\n",
    "    for i in range(n-1, -1, -1):\n",
    "        for j in range(i+1, n):\n",
    "            b[i] = b[i] - A[i, j]*x[j]\n",
    "        x[i] = b[i]/A[i, i]\n",
    "\n",
    "    return x"
   ]
  },
  {
   "cell_type": "code",
   "execution_count": 74,
   "metadata": {},
   "outputs": [
    {
     "name": "stdout",
     "output_type": "stream",
     "text": [
      "1.4901161193847656e-08\n",
      "[[1.00000000e+00 1.00000000e+00 1.00000000e+00]\n",
      " [1.49011612e-08 0.00000000e+00 0.00000000e+00]\n",
      " [1.49011612e-08 0.00000000e+00 0.00000000e+00]\n",
      " [1.49011612e-08 0.00000000e+00 0.00000000e+00]]\n"
     ]
    }
   ],
   "source": [
    "e=np.sqrt(np.finfo(float).eps)\n",
    "e_1=np.finfo(float).eps\n",
    "e_2=2*(np.finfo(float).eps)\n",
    "print(e)\n",
    "A=np.array([[1,1,1],[e,0,0],[e,0,0],[e,0,0]])\n",
    "A_1=np.array([[1,1,1],[e_1,0,0],[e_1,0,0],[e_1,0,0]])\n",
    "A_2=np.array([[1,1,1],[e_2,0,0],[e_2,0,0],[e_2,0,0]])\n",
    "b=np.array([[1],[0],[0],[0]])\n",
    "print(A)"
   ]
  },
  {
   "cell_type": "code",
   "execution_count": 58,
   "metadata": {},
   "outputs": [
    {
     "name": "stdout",
     "output_type": "stream",
     "text": [
      "[array([0.]), array([0.]), array([1.])]\n",
      "[array([0.]), array([0.]), array([1.])]\n",
      "[array([0.]), array([0.]), array([1.])]\n"
     ]
    }
   ],
   "source": [
    "print(sustitucion(EC_normales(A, b)[0], EC_normales(A, b)[1]))\n",
    "print(sustitucion(EC_normales(A_1, b)[0], EC_normales(A_1, b)[1]))\n",
    "print(sustitucion(EC_normales(A_2, b)[0], EC_normales(A_2, b)[1]))"
   ]
  },
  {
   "cell_type": "code",
   "execution_count": 65,
   "metadata": {},
   "outputs": [
    {
     "ename": "TypeError",
     "evalue": "Householder() missing 1 required positional argument: 'b'",
     "output_type": "error",
     "traceback": [
      "\u001b[1;31m---------------------------------------------------------------------------\u001b[0m",
      "\u001b[1;31mTypeError\u001b[0m                                 Traceback (most recent call last)",
      "Cell \u001b[1;32mIn [65], line 1\u001b[0m\n\u001b[1;32m----> 1\u001b[0m Qt \u001b[39m=\u001b[39m np\u001b[39m.\u001b[39mtranspose(Householder(A)[\u001b[39m0\u001b[39m])\n\u001b[0;32m      2\u001b[0m R \u001b[39m=\u001b[39m Householder(A)[\u001b[39m1\u001b[39m]\n\u001b[0;32m      3\u001b[0m \u001b[39mprint\u001b[39m(sustitucion())\n",
      "\u001b[1;31mTypeError\u001b[0m: Householder() missing 1 required positional argument: 'b'"
     ]
    }
   ],
   "source": [
    "Qt = np.transpose(Householder(A)[0])\n",
    "R = Householder(A)[1]\n",
    "print(sustitucion())\n",
    "print(sustitucion())\n",
    "print(sustitucion())"
   ]
  },
  {
   "cell_type": "code",
   "execution_count": 72,
   "metadata": {},
   "outputs": [
    {
     "name": "stderr",
     "output_type": "stream",
     "text": [
      "C:\\Users\\KR\\AppData\\Local\\Temp\\ipykernel_14168\\4190480536.py:12: RuntimeWarning: invalid value encountered in divide\n",
      "  v = u/LA.norm(u)\n"
     ]
    },
    {
     "data": {
      "text/plain": [
       "(array([[nan, nan, nan, nan],\n",
       "        [nan, nan, nan, nan],\n",
       "        [nan, nan, nan, nan],\n",
       "        [nan, nan, nan, nan]]),\n",
       " array([[nan, nan, nan],\n",
       "        [nan, nan, nan],\n",
       "        [nan, nan, nan],\n",
       "        [nan, nan, nan]]))"
      ]
     },
     "execution_count": 72,
     "metadata": {},
     "output_type": "execute_result"
    }
   ],
   "source": [
    "Householder(A)"
   ]
  },
  {
   "cell_type": "code",
   "execution_count": 91,
   "metadata": {},
   "outputs": [
    {
     "name": "stdout",
     "output_type": "stream",
     "text": [
      "[[-1.00000000e+00 -1.00000000e+00 -1.00000000e+00]\n",
      " [ 5.73087588e-24  2.58095696e-08  2.58095696e-08]\n",
      " [-2.02617029e-24  6.28036999e-16  6.28036999e-16]\n",
      " [ 1.16981009e-24 -1.32348898e-23 -1.32348898e-23]]\n",
      "[[-1.00000000e+00  2.58095696e-08  6.28036999e-16 -1.32348898e-23]\n",
      " [-1.49011612e-08 -5.77350378e-01  8.16496587e-01 -1.72063785e-08]\n",
      " [-1.49011612e-08 -5.77350259e-01 -4.08248344e-01 -7.07106775e-01]\n",
      " [-1.49011612e-08 -5.77350259e-01 -4.08248285e-01  7.07106793e-01]]\n"
     ]
    }
   ],
   "source": [
    "import numpy as np\n",
    "\n",
    "def column_convertor(x):\n",
    "    \"\"\"\n",
    "    Converts 1d array to column vector\n",
    "    \"\"\"\n",
    "    x.shape = (1, x.shape[0])\n",
    "    return x\n",
    "\n",
    "def get_norm(x):\n",
    "    \"\"\"\n",
    "    Returns Norm of vector x\n",
    "    \"\"\"\n",
    "    return np.sqrt(np.sum(np.square(x)))\n",
    "\n",
    "def householder_transformation(v):\n",
    "    \"\"\"\n",
    "    Returns Householder matrix for vector v\n",
    "    \"\"\"\n",
    "    size_of_v = v.shape[1]\n",
    "    e1 = np.zeros_like(v)\n",
    "    e1[0, 0] = 1\n",
    "    vector = get_norm(v) * e1\n",
    "    if v[0, 0] < 0:\n",
    "        vector = - vector\n",
    "    u = (v + vector).astype(np.float32)\n",
    "    H = np.identity(size_of_v) - ((2 * np.matmul(np.transpose(u), u)) / np.matmul(u, np.transpose(u)))\n",
    "    return H\n",
    "\n",
    "def qr_step_factorization(q, r, iter, n):\n",
    "    \"\"\"\n",
    "    Return Q and R matrices for iter number of iterations.\n",
    "    \"\"\"\n",
    "    v = column_convertor(r[iter:, iter])\n",
    "    Hbar = householder_transformation(v)\n",
    "    H = np.identity(n)\n",
    "    H[iter:, iter:] = Hbar\n",
    "    r = np.matmul(H, r)\n",
    "    q = np.matmul(q, H)\n",
    "    return q, r\n",
    "\n",
    "def main():\n",
    "    \n",
    "    A = np.array([[1,1,1],[e,0,0],[e,0,0],[e,0,0]])\n",
    "    n,m =A.shape\n",
    "    Q = np.identity(n)\n",
    "    R = A.astype(np.float32)\n",
    "    for i in range(min(n, m)):\n",
    "        # For each iteration, H matrix is calculated for (i+1)th row\n",
    "        Q, R = qr_step_factorization(Q, R, i, n)\n",
    "    min_dim = min(m, n)\n",
    "    print(R)\n",
    "    print(Q)\n",
    "\n",
    "\n",
    "if __name__ == \"__main__\":\n",
    "    main()"
   ]
  },
  {
   "cell_type": "code",
   "execution_count": null,
   "metadata": {},
   "outputs": [],
   "source": []
  }
 ],
 "metadata": {
  "kernelspec": {
   "display_name": "Python 3.10.8 64-bit",
   "language": "python",
   "name": "python3"
  },
  "language_info": {
   "codemirror_mode": {
    "name": "ipython",
    "version": 3
   },
   "file_extension": ".py",
   "mimetype": "text/x-python",
   "name": "python",
   "nbconvert_exporter": "python",
   "pygments_lexer": "ipython3",
   "version": "3.10.8"
  },
  "orig_nbformat": 4,
  "vscode": {
   "interpreter": {
    "hash": "2ce5abb18d857f9e49c088cba8187933cc9324131c494c3be04c4f561bc9060e"
   }
  }
 },
 "nbformat": 4,
 "nbformat_minor": 2
}
