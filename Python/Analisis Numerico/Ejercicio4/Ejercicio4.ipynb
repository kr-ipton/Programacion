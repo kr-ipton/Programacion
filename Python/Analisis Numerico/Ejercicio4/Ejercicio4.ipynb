{
 "cells": [
  {
   "cell_type": "code",
   "execution_count": 74,
   "metadata": {},
   "outputs": [],
   "source": [
    "def pares(x):\n",
    "    if x % 2 == 0:\n",
    "        return True\n",
    "    else:\n",
    "        return False"
   ]
  },
  {
   "cell_type": "code",
   "execution_count": 85,
   "metadata": {},
   "outputs": [],
   "source": [
    "def entero_lista(x):\n",
    "    for i in range(len(x)):\n",
    "        x[i] = int(x[i])\n",
    "\n",
    "datos=[]\n",
    "datos_brutos=[]\n",
    "\n",
    "lista=input(\"Escriba uno a uno los elementos a ordenar, use enter para añadir otro elemento y escriba 'y' para terminar\")\n",
    "while lista !='y':\n",
    "    datos_brutos.append(lista)\n",
    "    lista=input(\"Escriba uno a uno los elementos a ordenar, use enter para añadir otro elemento y escriba 'y' para terminar\")\n",
    "\n",
    "for i in range(len(datos_brutos)):\n",
    "    dato=datos_brutos[i]\n",
    "    if dato.isnumeric()==True:\n",
    "        datos.append(datos_brutos[i])\n",
    "    else:\n",
    "        pass\n",
    "    \n",
    "datos_ft=tuple(map(float,datos))\n",
    "datos_float= list(datos_ft)\n",
    "datos=list(datos)\n",
    "entero_lista(datos)"
   ]
  },
  {
   "cell_type": "code",
   "execution_count": 89,
   "metadata": {},
   "outputs": [
    {
     "name": "stdout",
     "output_type": "stream",
     "text": [
      "Escribió 12 pares en sus entradas\n"
     ]
    }
   ],
   "source": [
    "a=0\n",
    "for i in range(len(datos)):\n",
    "    if pares(datos[i])== True:\n",
    "        a=a+1\n",
    "    else:\n",
    "        pass\n",
    "print(\"Escribió %i pares en sus entradas\" %a)\n"
   ]
  }
 ],
 "metadata": {
  "kernelspec": {
   "display_name": "Python 3.10.5 64-bit",
   "language": "python",
   "name": "python3"
  },
  "language_info": {
   "codemirror_mode": {
    "name": "ipython",
    "version": 3
   },
   "file_extension": ".py",
   "mimetype": "text/x-python",
   "name": "python",
   "nbconvert_exporter": "python",
   "pygments_lexer": "ipython3",
   "version": "3.10.5"
  },
  "orig_nbformat": 4,
  "vscode": {
   "interpreter": {
    "hash": "2ce5abb18d857f9e49c088cba8187933cc9324131c494c3be04c4f561bc9060e"
   }
  }
 },
 "nbformat": 4,
 "nbformat_minor": 2
}
