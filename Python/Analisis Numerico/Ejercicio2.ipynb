{
 "cells": [
  {
   "cell_type": "markdown",
   "metadata": {},
   "source": [
    "Programe los algoritmos de ordenamiento quicksort, burbuja e inserción, para una lista de n\n",
    "elementos"
   ]
  },
  {
   "cell_type": "markdown",
   "metadata": {},
   "source": [
    "    Haga una gráfica donde se muestre cuánto tardan los programas en función del parámetro n."
   ]
  },
  {
   "cell_type": "code",
   "execution_count": 1,
   "metadata": {},
   "outputs": [],
   "source": [
    "#Quicksort\n",
    "import numpy as np"
   ]
  },
  {
   "cell_type": "code",
   "execution_count": 3,
   "metadata": {},
   "outputs": [
    {
     "data": {
      "text/plain": [
       "'def particion(x):\\n    pivote = x[0]\\n    mayor = []\\n    menor = []\\n    for i in range(1, len(x)):\\n        if x[i] < pivote:\\n            menor.append(x[i])\\n        else:\\n            mayor.append(x[i])\\n    return menor, pivote, mayor\\n\\ndef flatten(lista_de_listas):\\n    if len(lista_de_listas) == 0:\\n        return lista_de_listas\\n    if isinstance(lista_de_listas[0], list):\\n        return flatten(lista_de_listas[0]) + flatten(lista_de_listas[1:])\\n    return lista_de_listas[:1] + flatten(lista_de_listas[1:])\\n\\n\\ndef Quicksort(x):\\n    if len(x)<=2:\\n        return x\\n    else:\\n        menor, pivote, mayor= particion(x)\\n        pass\\n    \\n    return flatten([Quicksort(menor),pivote,Quicksort(mayor)]) \\n'"
      ]
     },
     "execution_count": 3,
     "metadata": {},
     "output_type": "execute_result"
    }
   ],
   "source": [
    "\"\"\"def particion(x):\n",
    "    pivote = x[0]\n",
    "    mayor = []\n",
    "    menor = []\n",
    "    for i in range(1, len(x)):\n",
    "        if x[i] < pivote:\n",
    "            menor.append(x[i])\n",
    "        else:\n",
    "            mayor.append(x[i])\n",
    "    return menor, pivote, mayor\n",
    "\n",
    "def flatten(lista_de_listas):\n",
    "    if len(lista_de_listas) == 0:\n",
    "        return lista_de_listas\n",
    "    if isinstance(lista_de_listas[0], list):\n",
    "        return flatten(lista_de_listas[0]) + flatten(lista_de_listas[1:])\n",
    "    return lista_de_listas[:1] + flatten(lista_de_listas[1:])\n",
    "\n",
    "\n",
    "def Quicksort(x):\n",
    "    if len(x)<=2:\n",
    "        return x\n",
    "    else:\n",
    "        menor, pivote, mayor= particion(x)\n",
    "        pass\n",
    "    \n",
    "    return flatten([Quicksort(menor),pivote,Quicksort(mayor)]) \n",
    "\"\"\"\n"
   ]
  },
  {
   "cell_type": "code",
   "execution_count": 5,
   "metadata": {},
   "outputs": [
    {
     "name": "stdout",
     "output_type": "stream",
     "text": [
      "[]\n"
     ]
    }
   ],
   "source": [
    "\n",
    "def partition(izquierda, derecha, x):\n",
    "    # Last element will be the pivot and the first element the pointer\n",
    "    pivot, ptr = x[derecha], izquierda\n",
    "    for i in range(izquierda, derecha):\n",
    "        if x[i] <= pivot:\n",
    "            # Swapping values smaller than the pivot to the front\n",
    "            x[i], x[ptr] = x[ptr], x[i]\n",
    "            ptr += 1\n",
    "    # Finally swapping the last element with the pointer indexed number\n",
    "    x[ptr], x[derecha] = x[derecha], x[ptr]\n",
    "    return ptr\n",
    " \n",
    "# With quicksort() function, we will be utilizing the above code to obtain the pointer\n",
    "# at which the left values are all smaller than the number at pointer index and vice versa\n",
    "# for the right values.\n",
    "def quicksort_c1(x):\n",
    "    izq= 0\n",
    "    der= len(x)-1\n",
    "    alpha=x\n",
    "    return quicksort(izq, der, alpha)\n",
    " \n",
    "def quicksort(I, D, x):\n",
    "    if len(x) == 1:  # Terminating Condition for recursion. VERY IMPORTANT!\n",
    "        return x\n",
    "    if I < D:\n",
    "        pi = partition(I, D, x)\n",
    "        quicksort(I, pi-1, x)  # Recursively sorting the left values\n",
    "        quicksort(pi+1, D, x)  # Recursively sorting the right values\n",
    "    return x\n",
    " \n",
    "b=[]\n",
    "a= [1.0, 1.0, 4.0, 1.0, 54.0, 1.0, 3.0, 13.0, 12.0, 31.0, 132.0, 3.0, 21.0, 2.0, 3.0, 1.0, 31.0, 12.0, 3.0, 1.0, 1.242243123, 21.43134, 0.452, 1.2312]\n",
    "\n",
    "print(quicksort_c1(b))\n",
    "\n",
    "\n",
    "\n",
    "\n"
   ]
  },
  {
   "cell_type": "code",
   "execution_count": 6,
   "metadata": {},
   "outputs": [],
   "source": [
    "def Burbuja(x): \n",
    "    n=len(x)\n",
    "    i=0\n",
    "    for i in range (n-1): \n",
    "        j=0\n",
    "        for j in range(n - 1):  \n",
    "            if x[j] > x[j+1]:  \n",
    "                x[j], x[j+1] = x[j+1], x[j]\n",
    "    return x"
   ]
  },
  {
   "cell_type": "code",
   "execution_count": 11,
   "metadata": {},
   "outputs": [],
   "source": [
    "def insertionSort(x):\n",
    "    n=len(x)\n",
    "    for i in range(1, n):\n",
    "        clave = x[i]\n",
    "        j = i - 1\n",
    "                \n",
    "        while j >= 0 and clave < x[j]:\n",
    "            x[j + 1] = x[j]\n",
    "            j = j - 1\n",
    "        \n",
    "        x[j + 1] = clave\n",
    "    return x\n",
    "\n"
   ]
  },
  {
   "cell_type": "code",
   "execution_count": 8,
   "metadata": {},
   "outputs": [
    {
     "name": "stdout",
     "output_type": "stream",
     "text": [
      "[1.0, 1.0, 4.0, 1.0, 54.0, 1.0, 3.0, 13.0, 12.0, 31.0, 132.0, 3.0, 21.0, 2.0, 3.0, 1.0, 31.0, 12.0, 3.0, 1.0, 1.242243123, 21.43134, 0.452, 1.2312]\n"
     ]
    }
   ],
   "source": [
    "################################################################\n",
    "\n",
    "def esflotante(num):\n",
    "    try:\n",
    "        float(num)\n",
    "        return True\n",
    "    except ValueError:\n",
    "        return False\n",
    "\n",
    "\"\"\"\n",
    "datos=[]\n",
    "datos_brutos=[]\n",
    "\n",
    "lista=input(\"Escriba uno a uno los elementos a ordenar, use enter para añadir otro elemento y escriba 'y' para terminar\")\n",
    "while lista !='y':\n",
    "    datos_brutos.append(lista)\n",
    "    lista=input(\"Escriba uno a uno los elementos a ordenar, use enter para añadir otro elemento y escriba 'y' para terminar\")\n",
    "\n",
    "for i in range(len(datos_brutos)):\n",
    "    dato=datos_brutos[i]\n",
    "    if dato.isnumeric()==True:\n",
    "        datos.append(datos_brutos[i])\n",
    "    elif esflotante(dato)==True:\n",
    "        datos.append(datos_brutos[i])\n",
    "    else:\n",
    "        pass\n",
    "\"\"\"\n",
    "#datos_ft=tuple(map(float,datos))\n",
    "datos_float= [1.0, 1.0, 4.0, 1.0, 54.0, 1.0, 3.0, 13.0, 12.0, 31.0, 132.0, 3.0, 21.0, 2.0, 3.0, 1.0, 31.0, 12.0, 3.0, 1.0, 1.242243123, 21.43134, 0.452, 1.2312] #list(datos_ft)\n",
    "datos_float_c=datos_float[:]\n",
    "tamaño_lista=len(datos_float)\n",
    "print(datos_float_c)"
   ]
  },
  {
   "cell_type": "code",
   "execution_count": 10,
   "metadata": {},
   "outputs": [
    {
     "name": "stdout",
     "output_type": "stream",
     "text": [
      "[0.452, 1.0, 1.0, 1.0, 1.0, 1.0, 1.0, 1.2312, 1.242243123, 2.0, 3.0, 3.0, 3.0, 3.0, 4.0, 12.0, 12.0, 13.0, 21.0, 21.43134, 31.0, 31.0, 54.0, 132.0]\n",
      "[0.452, 1.0, 1.0, 1.0, 1.0, 1.0, 1.0, 1.2312, 1.242243123, 2.0, 3.0, 3.0, 3.0, 3.0, 4.0, 12.0, 12.0, 13.0, 21.0, 21.43134, 31.0, 31.0, 54.0, 132.0]\n",
      "[0.452, 1.0, 1.0, 1.0, 1.0, 1.0, 1.0, 3.0, 12.0, 31.0, 132.0, 3.0, 21.0, 2.0, 3.0, 1.0, 1.0, 12.0, 3.0, 1.0, 1.242243123, 21.43134, 0.452, 1.2312]\n"
     ]
    }
   ],
   "source": [
    "a=quicksort_c1(datos_float)\n",
    "datos_float = datos_float_c[:]\n",
    "b=Burbuja(datos_float)\n",
    "datos_float = datos_float_c[:]\n",
    "c=Insercion(datos_float)\n",
    "print(a)\n",
    "print(b)\n",
    "print(c)"
   ]
  },
  {
   "cell_type": "code",
   "execution_count": null,
   "metadata": {},
   "outputs": [
    {
     "ename": "NameError",
     "evalue": "name 'datos_float_c' is not defined",
     "output_type": "error",
     "traceback": [
      "\u001b[1;31m---------------------------------------------------------------------------\u001b[0m",
      "\u001b[1;31mNameError\u001b[0m                                 Traceback (most recent call last)",
      "Cell \u001b[1;32mIn [1], line 1\u001b[0m\n\u001b[1;32m----> 1\u001b[0m \u001b[38;5;28mprint\u001b[39m(\u001b[43mdatos_float_c\u001b[49m)\n",
      "\u001b[1;31mNameError\u001b[0m: name 'datos_float_c' is not defined"
     ]
    }
   ],
   "source": [
    "print(datos_float_c)"
   ]
  }
 ],
 "metadata": {
  "kernelspec": {
   "display_name": "Python 3.10.5 64-bit",
   "language": "python",
   "name": "python3"
  },
  "language_info": {
   "codemirror_mode": {
    "name": "ipython",
    "version": 3
   },
   "file_extension": ".py",
   "mimetype": "text/x-python",
   "name": "python",
   "nbconvert_exporter": "python",
   "pygments_lexer": "ipython3",
   "version": "3.10.5"
  },
  "orig_nbformat": 4,
  "vscode": {
   "interpreter": {
    "hash": "2ce5abb18d857f9e49c088cba8187933cc9324131c494c3be04c4f561bc9060e"
   }
  }
 },
 "nbformat": 4,
 "nbformat_minor": 2
}
