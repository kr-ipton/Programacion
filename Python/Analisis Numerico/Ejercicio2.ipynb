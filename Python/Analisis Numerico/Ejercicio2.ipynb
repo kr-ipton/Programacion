{
 "cells": [
  {
   "cell_type": "markdown",
   "metadata": {},
   "source": [
    "Programe los algoritmos de ordenamiento quicksort, burbuja e inserción, para una lista de n\n",
    "elementos"
   ]
  },
  {
   "cell_type": "markdown",
   "metadata": {},
   "source": [
    "    Haga una gráfica donde se muestre cuánto tardan los programas en función del parámetro n."
   ]
  },
  {
   "cell_type": "code",
   "execution_count": 1,
   "metadata": {},
   "outputs": [],
   "source": [
    "#Quicksort\n",
    "import numpy as np"
   ]
  },
  {
   "cell_type": "code",
   "execution_count": 208,
   "metadata": {},
   "outputs": [],
   "source": [
    "def particion(x):\n",
    "    pivote = x[0]\n",
    "    mayor = []\n",
    "    menor = []\n",
    "    for i in range(1, len(x)):\n",
    "        if x[i] < pivote:\n",
    "            menor.append(x[i])\n",
    "        else:\n",
    "            mayor.append(x[i])\n",
    "    return menor, pivote, mayor\n",
    "\n",
    "def flatten(list_of_lists):\n",
    "    if len(list_of_lists) == 0:\n",
    "        return list_of_lists\n",
    "    if isinstance(list_of_lists[0], list):\n",
    "        return flatten(list_of_lists[0]) + flatten(list_of_lists[1:])\n",
    "    return list_of_lists[:1] + flatten(list_of_lists[1:])\n",
    "\n",
    "\n",
    "def Quicksort(x):\n",
    "    if len(x)<2:\n",
    "        return x\n",
    "    else:\n",
    "        menor, pivote, mayor= particion(x)\n",
    "    return flatten([Quicksort(menor),pivote,Quicksort(mayor)])\n",
    "\n"
   ]
  },
  {
   "cell_type": "code",
   "execution_count": null,
   "metadata": {},
   "outputs": [],
   "source": [
    "def Burbuja(x):"
   ]
  },
  {
   "cell_type": "code",
   "execution_count": null,
   "metadata": {},
   "outputs": [],
   "source": [
    "def Inserción(x):\n"
   ]
  },
  {
   "cell_type": "code",
   "execution_count": 209,
   "metadata": {},
   "outputs": [],
   "source": [
    "def esflotante(num):\n",
    "    try:\n",
    "        float(num)\n",
    "        return True\n",
    "    except ValueError:\n",
    "        return False\n",
    "\n",
    "\n",
    "datos=[]\n",
    "datos_brutos=[]\n",
    "\n",
    "lista=input(\"Escriba uno a uno los elementos a ordenar, use enter para añadir otro elemento y escriba 'y' para terminar\")\n",
    "while lista !='y':\n",
    "    datos_brutos.append(lista)\n",
    "    lista=input(\"Escriba uno a uno los elementos a ordenar, use enter para añadir otro elemento y escriba 'y' para terminar\")\n",
    "print(datos_brutos)\n",
    "for i in range(len(datos_brutos)):\n",
    "    dato=datos_brutos[i]\n",
    "    if dato.isnumeric()==True:\n",
    "        datos.append(datos_brutos[i])\n",
    "    elif esflotante(dato)==True:\n",
    "        datos.append(datos_brutos[i])\n",
    "    else:\n",
    "        pass\n",
    "        #print(\"Error: El elemento %i es un valor no numerico\" %(i+1))\n",
    "datos_float=tuple(map(float,datos))\n",
    "print(datos_float)\n",
    "tamaño_lista=len(datos_float)\n"
   ]
  },
  {
   "cell_type": "code",
   "execution_count": 176,
   "metadata": {},
   "outputs": [
    {
     "data": {
      "text/plain": [
       "15"
      ]
     },
     "execution_count": 176,
     "metadata": {},
     "output_type": "execute_result"
    }
   ],
   "source": []
  },
  {
   "cell_type": "code",
   "execution_count": 177,
   "metadata": {},
   "outputs": [
    {
     "name": "stdout",
     "output_type": "stream",
     "text": [
      "22\n",
      "15\n"
     ]
    }
   ],
   "source": [
    "print(len(datos_brutos))\n",
    "print(len(datos_float))"
   ]
  },
  {
   "cell_type": "code",
   "execution_count": 202,
   "metadata": {},
   "outputs": [
    {
     "name": "stdout",
     "output_type": "stream",
     "text": [
      "(1.0, 2.0, 31.0, 21.0, 2.0, 3.0, 31.0, 3.0, 23.0, 1.0, 3.0, 322.0, 1.0, 3.0, 31.0)\n"
     ]
    }
   ],
   "source": [
    "print(datos_float)"
   ]
  },
  {
   "cell_type": "code",
   "execution_count": 205,
   "metadata": {},
   "outputs": [
    {
     "name": "stdout",
     "output_type": "stream",
     "text": [
      "[1.0, 1.0, 1.0, 2.0, 2.0, 3.0, 3.0, 3.0, 3.0, 21.0, 23.0, 31.0, 31.0, 31.0, 322.0]\n"
     ]
    }
   ],
   "source": [
    "a=Quicksort(datos_float)\n",
    "print(a)"
   ]
  },
  {
   "cell_type": "code",
   "execution_count": 207,
   "metadata": {},
   "outputs": [
    {
     "name": "stdout",
     "output_type": "stream",
     "text": [
      "15 15\n"
     ]
    }
   ],
   "source": [
    "print(len(datos_float),(len(a)))"
   ]
  }
 ],
 "metadata": {
  "kernelspec": {
   "display_name": "Python 3.10.5 64-bit",
   "language": "python",
   "name": "python3"
  },
  "language_info": {
   "codemirror_mode": {
    "name": "ipython",
    "version": 3
   },
   "file_extension": ".py",
   "mimetype": "text/x-python",
   "name": "python",
   "nbconvert_exporter": "python",
   "pygments_lexer": "ipython3",
   "version": "3.10.5"
  },
  "orig_nbformat": 4,
  "vscode": {
   "interpreter": {
    "hash": "2ce5abb18d857f9e49c088cba8187933cc9324131c494c3be04c4f561bc9060e"
   }
  }
 },
 "nbformat": 4,
 "nbformat_minor": 2
}
