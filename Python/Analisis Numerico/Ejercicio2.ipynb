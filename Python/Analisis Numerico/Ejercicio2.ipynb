{
 "cells": [
  {
   "cell_type": "markdown",
   "metadata": {},
   "source": [
    "Programe los algoritmos de ordenamiento quicksort, burbuja e inserción, para una lista de n\n",
    "elementos"
   ]
  },
  {
   "cell_type": "markdown",
   "metadata": {},
   "source": [
    "    Haga una gráfica donde se muestre cuánto tardan los programas en función del parámetro n."
   ]
  },
  {
   "cell_type": "code",
   "execution_count": null,
   "metadata": {},
   "outputs": [],
   "source": [
    "#Importacion de libreria numpy\n",
    "import numpy as np"
   ]
  },
  {
   "cell_type": "code",
   "execution_count": null,
   "metadata": {},
   "outputs": [],
   "source": [
    "def partition(izquierda, derecha, x):\n",
    "    pivot, ptr = x[derecha], izquierda\n",
    "    for i in range(izquierda, derecha):\n",
    "        if x[i] <= pivot:\n",
    "            x[i], x[ptr] = x[ptr], x[i]\n",
    "            ptr += 1\n",
    "    x[ptr], x[derecha] = x[derecha], x[ptr]\n",
    "    return ptr\n",
    " \n",
    "\n",
    "def quicksort_c1(x):\n",
    "    izq= 0\n",
    "    der= len(x)-1\n",
    "    alpha=x\n",
    "    return quicksort(izq, der, alpha)\n",
    " \n",
    "def quicksort(I, D, x):\n",
    "    if len(x) == 1: \n",
    "        return x\n",
    "    if I < D:\n",
    "        pi = partition(I, D, x)\n",
    "        quicksort(I, pi-1, x)  \n",
    "        quicksort(pi+1, D, x)  \n",
    "    return x\n",
    " \n",
    "b=[]\n",
    "a= [1.0, 1.0, 4.0, 1.0, 54.0, 1.0, 3.0, 13.0, 12.0, 31.0, 132.0, 3.0, 21.0, 2.0, 3.0, 1.0, 31.0, 12.0, 3.0, 1.0, 1.242243123, 21.43134, 0.452, 1.2312]\n",
    "\n",
    "print(quicksort_c1(b))"
   ]
  },
  {
   "cell_type": "code",
   "execution_count": null,
   "metadata": {},
   "outputs": [],
   "source": [
    "def Burbuja(x): \n",
    "    n=len(x)\n",
    "    i=0\n",
    "    for i in range (n-1): \n",
    "        j=0\n",
    "        for j in range(n - 1):  \n",
    "            if x[j] > x[j+1]:  \n",
    "                x[j], x[j+1] = x[j+1], x[j]\n",
    "    return x"
   ]
  },
  {
   "cell_type": "code",
   "execution_count": null,
   "metadata": {},
   "outputs": [],
   "source": [
    "def Insercion(x):\n",
    "    n=len(x)\n",
    "    for i in range(1, n):\n",
    "        clave = x[i]\n",
    "        j = i - 1\n",
    "                \n",
    "        while j >= 0 and clave < x[j]:\n",
    "            x[j + 1] = x[j]\n",
    "            j = j - 1\n",
    "        \n",
    "        x[j + 1] = clave\n",
    "    return x\n",
    "\n"
   ]
  },
  {
   "cell_type": "code",
   "execution_count": null,
   "metadata": {},
   "outputs": [],
   "source": [
    "def esflotante(num):\n",
    "    try:\n",
    "        float(num)\n",
    "        return True\n",
    "    except ValueError:\n",
    "        return False\n",
    "\n",
    "\n",
    "datos=[]\n",
    "datos_brutos=[]\n",
    "\n",
    "lista=input(\"Escriba uno a uno los elementos a ordenar, use enter para añadir otro elemento y escriba 'y' para terminar\")\n",
    "while lista !='y':\n",
    "    datos_brutos.append(lista)\n",
    "    lista=input(\"Escriba uno a uno los elementos a ordenar, use enter para añadir otro elemento y escriba 'y' para terminar\")\n",
    "\n",
    "for i in range(len(datos_brutos)):\n",
    "    dato=datos_brutos[i]\n",
    "    if dato.isnumeric()==True:\n",
    "        datos.append(datos_brutos[i])\n",
    "    elif esflotante(dato)==True:\n",
    "        datos.append(datos_brutos[i])\n",
    "    else:\n",
    "        pass\n",
    "    \n",
    "datos_ft=tuple(map(float,datos))\n",
    "datos_float= list(datos_ft)\n"
   ]
  },
  {
   "cell_type": "code",
   "execution_count": null,
   "metadata": {},
   "outputs": [],
   "source": [
    "datos_float_c = datos_float[:]\n",
    "a=quicksort_c1(datos_float)\n",
    "datos_float = datos_float_c[:]\n",
    "b=Burbuja(datos_float)\n",
    "datos_float = datos_float_c[:]\n",
    "c=Insercion(datos_float)\n",
    "print(a)\n",
    "print(b)\n",
    "print(c)"
   ]
  }
 ],
 "metadata": {
  "kernelspec": {
   "display_name": "Python 3.10.5 64-bit",
   "language": "python",
   "name": "python3"
  },
  "language_info": {
   "codemirror_mode": {
    "name": "ipython",
    "version": 3
   },
   "file_extension": ".py",
   "mimetype": "text/x-python",
   "name": "python",
   "nbconvert_exporter": "python",
   "pygments_lexer": "ipython3",
   "version": "3.10.5"
  },
  "orig_nbformat": 4,
  "vscode": {
   "interpreter": {
    "hash": "2ce5abb18d857f9e49c088cba8187933cc9324131c494c3be04c4f561bc9060e"
   }
  }
 },
 "nbformat": 4,
 "nbformat_minor": 2
}
