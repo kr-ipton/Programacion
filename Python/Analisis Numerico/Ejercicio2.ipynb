{
 "cells": [
  {
   "cell_type": "code",
   "execution_count": null,
   "metadata": {},
   "outputs": [],
   "source": []
  }
 ],
 "metadata": {
  "kernelspec": {
   "display_name": "Python 3.10.5 64-bit",
   "language": "python",
   "name": "python3"
  },
  "language_info": {
   "name": "python",
   "version": "3.10.5"
  },
  "orig_nbformat": 4,
  "vscode": {
   "interpreter": {
    "hash": "2ce5abb18d857f9e49c088cba8187933cc9324131c494c3be04c4f561bc9060e"
   }
  }
 },
 "nbformat": 4,
 "nbformat_minor": 2
}
