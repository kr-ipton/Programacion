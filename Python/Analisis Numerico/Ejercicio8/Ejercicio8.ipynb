{
 "cells": [
  {
   "cell_type": "code",
   "execution_count": null,
   "metadata": {},
   "outputs": [],
   "source": [
    "import numpy as np"
   ]
  },
  {
   "cell_type": "code",
   "execution_count": null,
   "metadata": {},
   "outputs": [],
   "source": [
    "Vector = [1.0, -2.0, 3.0, -4.0, 5.0, -6.0, 7.0, -8.0, 9.0, -10.0, 11.0, -12.0, 13.0, -14.0, 15.0, -16.0, 17.0, -18.0, 19.0, -20.0, 21.0, -22.0, 23.0, -24.0, 25.0, -26.0, 27.0, -28.0, 29.0, -30.0, 31.0, -32.0, 33.0, -34.0, 35.0, -36.0, 37.0, -38.0, 39.0, -40.0, 41.0, -42.0, 43.0, -44.0, 45.0]"
   ]
  },
  {
   "cell_type": "markdown",
   "metadata": {},
   "source": [
    "Inciso 1"
   ]
  },
  {
   "cell_type": "code",
   "execution_count": null,
   "metadata": {},
   "outputs": [],
   "source": [
    "def lleno_vacio(x):\n",
    "    if len(x)>0:\n",
    "        return True\n",
    "    else:\n",
    "        False"
   ]
  },
  {
   "cell_type": "code",
   "execution_count": null,
   "metadata": {},
   "outputs": [],
   "source": [
    "if lleno_vacio(Vector)==True:\n",
    "    Vector.append(input(\"Ingrese un valor a añadir al vector\"))\n",
    "else: pass"
   ]
  },
  {
   "cell_type": "code",
   "execution_count": null,
   "metadata": {},
   "outputs": [],
   "source": [
    "print(Vector)"
   ]
  },
  {
   "cell_type": "markdown",
   "metadata": {},
   "source": [
    "Inciso 2"
   ]
  },
  {
   "cell_type": "code",
   "execution_count": null,
   "metadata": {},
   "outputs": [],
   "source": [
    "def borrado(x):\n",
    "    print(\"Si desea borrar por indice escriba 1\")\n",
    "    print(\"Si desea borrar por valor escriba 2\")\n",
    "    try:\n",
    "        v=int(input(\"Escriba el número de la accion que desea hacer\"))\n",
    "        d=len(x)-1\n",
    "        if v==1:\n",
    "            Vector.pop(int(input(\"Escriba el indice que desea eliminar (debe estar entre 0 a %d) \"%d)))\n",
    "        elif v==2:\n",
    "            print(\"Este programa solo funciona para numeros float, en caso de escribir un valor int este se converirá en float\")\n",
    "            Vector.remove(float(input(\"Escriba el valor que desea eliminar en caso de no existir se omitirá\")))\n",
    "        else: print(\" %i no es una accion dada para el programa\"%v)\n",
    "    \n",
    "    except ValueError:\n",
    "        pass"
   ]
  },
  {
   "cell_type": "code",
   "execution_count": null,
   "metadata": {},
   "outputs": [],
   "source": [
    "print(Vector)\n",
    "if lleno_vacio(Vector) == True:\n",
    "    borrado(Vector)\n",
    "    print(\"El vector resultante es:\")\n",
    "    print(Vector)\n",
    "else:   print(\"El vector está vacio\")"
   ]
  }
 ],
 "metadata": {
  "kernelspec": {
   "display_name": "Python 3.10.5 64-bit",
   "language": "python",
   "name": "python3"
  },
  "language_info": {
   "codemirror_mode": {
    "name": "ipython",
    "version": 3
   },
   "file_extension": ".py",
   "mimetype": "text/x-python",
   "name": "python",
   "nbconvert_exporter": "python",
   "pygments_lexer": "ipython3",
   "version": "3.10.5"
  },
  "orig_nbformat": 4,
  "vscode": {
   "interpreter": {
    "hash": "2ce5abb18d857f9e49c088cba8187933cc9324131c494c3be04c4f561bc9060e"
   }
  }
 },
 "nbformat": 4,
 "nbformat_minor": 2
}
