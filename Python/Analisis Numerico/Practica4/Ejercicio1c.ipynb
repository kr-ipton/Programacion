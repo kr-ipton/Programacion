{
 "cells": [
  {
   "cell_type": "code",
   "execution_count": 7,
   "metadata": {},
   "outputs": [],
   "source": [
    "import numpy as np\n",
    "import sympy as sp"
   ]
  },
  {
   "cell_type": "code",
   "execution_count": 51,
   "metadata": {},
   "outputs": [],
   "source": [
    "def newton(funcion, derivada, tolerancia, x_0, n):\n",
    "\n",
    "    def f(x):\n",
    "        f= eval(funcion)\n",
    "        return f\n",
    "    def df(x):\n",
    "        df = eval(derivada)\n",
    "        return df\n",
    "    x_k=x_0\n",
    "    x_k1=x_k-((f(x_k))/(df(x_k)))\n",
    "    while abs(x_k-x_k1)>tolerancia:\n",
    "        if df(x_k)==0: \n",
    "            pass\n",
    "        else:\n",
    "            x_k=x_k1-((f(x_k1))/(df(x_k)))\n",
    "        \n",
    "        x_k=x_k1\n",
    "    \n",
    "    return x_k"
   ]
  },
  {
   "cell_type": "code",
   "execution_count": 54,
   "metadata": {},
   "outputs": [
    {
     "data": {
      "text/plain": [
       "0"
      ]
     },
     "execution_count": 54,
     "metadata": {},
     "output_type": "execute_result"
    }
   ],
   "source": [
    "x_0=1\n",
    "x_1=2\n",
    "tolerancia=0.0001\n",
    "x = sp.Symbol('x')\n",
    "fx=x**2-3\n",
    "derivada=str(sp.diff(fx, x))\n",
    "funcion=str(fx)\n",
    "newton(funcion, derivada, tolerancia, 15, 10 )"
   ]
  }
 ],
 "metadata": {
  "kernelspec": {
   "display_name": "Python 3.10.8 64-bit",
   "language": "python",
   "name": "python3"
  },
  "language_info": {
   "codemirror_mode": {
    "name": "ipython",
    "version": 3
   },
   "file_extension": ".py",
   "mimetype": "text/x-python",
   "name": "python",
   "nbconvert_exporter": "python",
   "pygments_lexer": "ipython3",
   "version": "3.10.8"
  },
  "orig_nbformat": 4,
  "vscode": {
   "interpreter": {
    "hash": "e4d1ea8a2fde412e307c02a3abf60769838947610825cd0a957642a07236c738"
   }
  }
 },
 "nbformat": 4,
 "nbformat_minor": 2
}
